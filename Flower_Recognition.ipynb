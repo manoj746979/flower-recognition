{
 "cells": [
  {
   "cell_type": "code",
   "execution_count": 1,
   "metadata": {
    "id": "y1zc9KhT38t9"
   },
   "outputs": [
    {
     "name": "stderr",
     "output_type": "stream",
     "text": [
      "C:\\Users\\Lenovo\\Anaconda3\\lib\\site-packages\\h5py\\__init__.py:36: FutureWarning: Conversion of the second argument of issubdtype from `float` to `np.floating` is deprecated. In future, it will be treated as `np.float64 == np.dtype(float).type`.\n",
      "  from ._conv import register_converters as _register_converters\n",
      "Using TensorFlow backend.\n"
     ]
    }
   ],
   "source": [
    "import os\n",
    "import cv2 \n",
    "import pickle\n",
    "import numpy as np\n",
    "import pandas as pd\n",
    "import seaborn as sn\n",
    "from tqdm import tqdm\n",
    "import tensorflow as tf\n",
    "import matplotlib.pyplot as plt\n",
    "from keras.utils import plot_model\n",
    "from tensorflow.keras.models import Sequential\n",
    "from sklearn.model_selection import train_test_split\n",
    "from tensorflow.keras.layers import Conv2D, MaxPooling2D, Dense, Activation, Flatten\n",
    "from sklearn.metrics import confusion_matrix,classification_report,precision_score,recall_score,f1_score"
   ]
  },
  {
   "cell_type": "code",
   "execution_count": 2,
   "metadata": {
    "id": "blvC1jtl38uM"
   },
   "outputs": [],
   "source": [
    "project_dir = '/content/drive/My Drive/Project_int428'\n",
    "categories  = ['daisy', 'dandelion', 'rose', 'sunflower', 'tulip']\n",
    "data = []"
   ]
  },
  {
   "cell_type": "code",
   "execution_count": 3,
   "metadata": {
    "colab": {
     "base_uri": "https://localhost:8080/"
    },
    "id": "xNUxbuJy38uq",
    "outputId": "bdd452fc-7cc3-4169-fd40-9f37811dfd14"
   },
   "outputs": [
    {
     "ename": "FileNotFoundError",
     "evalue": "[WinError 3] The system cannot find the path specified: '/content/drive/My Drive/Project_int428/flowers\\\\daisy'",
     "output_type": "error",
     "traceback": [
      "\u001b[1;31m---------------------------------------------------------------------------\u001b[0m",
      "\u001b[1;31mFileNotFoundError\u001b[0m                         Traceback (most recent call last)",
      "\u001b[1;32m<ipython-input-3-3bfd33b77f4d>\u001b[0m in \u001b[0;36m<module>\u001b[1;34m()\u001b[0m\n\u001b[0;32m      2\u001b[0m   \u001b[0mpath\u001b[0m \u001b[1;33m=\u001b[0m \u001b[0mos\u001b[0m\u001b[1;33m.\u001b[0m\u001b[0mpath\u001b[0m\u001b[1;33m.\u001b[0m\u001b[0mjoin\u001b[0m\u001b[1;33m(\u001b[0m\u001b[0mproject_dir\u001b[0m\u001b[1;33m+\u001b[0m\u001b[1;34m'/flowers'\u001b[0m\u001b[1;33m,\u001b[0m \u001b[0mcategory\u001b[0m\u001b[1;33m)\u001b[0m\u001b[1;33m\u001b[0m\u001b[0m\n\u001b[0;32m      3\u001b[0m   \u001b[0mlabel\u001b[0m \u001b[1;33m=\u001b[0m \u001b[0mcategories\u001b[0m\u001b[1;33m.\u001b[0m\u001b[0mindex\u001b[0m\u001b[1;33m(\u001b[0m\u001b[0mcategory\u001b[0m\u001b[1;33m)\u001b[0m\u001b[1;33m\u001b[0m\u001b[0m\n\u001b[1;32m----> 4\u001b[1;33m   \u001b[1;32mfor\u001b[0m \u001b[0mimg_name\u001b[0m \u001b[1;32min\u001b[0m \u001b[0mtqdm\u001b[0m\u001b[1;33m(\u001b[0m\u001b[0mos\u001b[0m\u001b[1;33m.\u001b[0m\u001b[0mlistdir\u001b[0m\u001b[1;33m(\u001b[0m\u001b[0mpath\u001b[0m\u001b[1;33m)\u001b[0m\u001b[1;33m)\u001b[0m\u001b[1;33m:\u001b[0m\u001b[1;33m\u001b[0m\u001b[0m\n\u001b[0m\u001b[0;32m      5\u001b[0m     \u001b[0mimage_path\u001b[0m \u001b[1;33m=\u001b[0m \u001b[0mos\u001b[0m\u001b[1;33m.\u001b[0m\u001b[0mpath\u001b[0m\u001b[1;33m.\u001b[0m\u001b[0mjoin\u001b[0m\u001b[1;33m(\u001b[0m\u001b[0mpath\u001b[0m\u001b[1;33m,\u001b[0m\u001b[0mimg_name\u001b[0m\u001b[1;33m)\u001b[0m\u001b[1;33m\u001b[0m\u001b[0m\n\u001b[0;32m      6\u001b[0m     \u001b[1;32mtry\u001b[0m\u001b[1;33m:\u001b[0m\u001b[1;33m\u001b[0m\u001b[0m\n",
      "\u001b[1;31mFileNotFoundError\u001b[0m: [WinError 3] The system cannot find the path specified: '/content/drive/My Drive/Project_int428/flowers\\\\daisy'"
     ]
    }
   ],
   "source": [
    "for category in categories:\n",
    "  path = os.path.join(project_dir+'/flowers', category)\n",
    "  label = categories.index(category)\n",
    "  for img_name in tqdm(os.listdir(path)):\n",
    "    image_path = os.path.join(path,img_name)\n",
    "    try:\n",
    "      image = cv2.imread(image_path,cv2.IMREAD_GRAYSCALE)\n",
    "      image = cv2.resize(image, (224,224))\n",
    "      for i in range(0,3):\n",
    "        data.append([image,label])\n",
    "    except Exception as e:\n",
    "      pass"
   ]
  },
  {
   "cell_type": "code",
   "execution_count": null,
   "metadata": {
    "id": "7-yfxR5wpGi_"
   },
   "outputs": [],
   "source": [
    "np.random.shuffle(data)"
   ]
  },
  {
   "cell_type": "code",
   "execution_count": null,
   "metadata": {
    "id": "ZCfb2hksUHRN"
   },
   "outputs": [],
   "source": [
    "feature = []\n",
    "labels = []\n",
    "for img, label in data:\n",
    "    feature.append(img)\n",
    "    labels.append(label)"
   ]
  },
  {
   "cell_type": "code",
   "execution_count": null,
   "metadata": {
    "id": "b2LrqyJ2NfMK"
   },
   "outputs": [],
   "source": [
    "del data[:]\n",
    "del data"
   ]
  },
  {
   "cell_type": "code",
   "execution_count": null,
   "metadata": {
    "id": "fcim99ZRpKkB"
   },
   "outputs": [],
   "source": [
    "feature = np.array(feature, dtype=np.float32)\n",
    "labels = np.array(labels)\n",
    "feature = feature/255.0\n",
    "feature = np.array(feature).reshape(-1, 224, 224, 1)"
   ]
  },
  {
   "cell_type": "code",
   "execution_count": null,
   "metadata": {
    "id": "gSZeFBJKp0kS"
   },
   "outputs": [],
   "source": [
    "X_train, X_test, y_train, y_test=train_test_split(feature,labels,test_size=0.3)"
   ]
  },
  {
   "cell_type": "code",
   "execution_count": null,
   "metadata": {
    "id": "YsPTVLOiL_a1"
   },
   "outputs": [],
   "source": [
    "del feature\n",
    "del labels"
   ]
  },
  {
   "cell_type": "code",
   "execution_count": null,
   "metadata": {
    "colab": {
     "base_uri": "https://localhost:8080/"
    },
    "id": "yKJdXCIYsj6L",
    "outputId": "06f0dc5c-40b9-4722-c187-73ea552ad77b"
   },
   "outputs": [],
   "source": [
    "X_train.shape"
   ]
  },
  {
   "cell_type": "code",
   "execution_count": null,
   "metadata": {
    "id": "tiPyL-JgwZ1s"
   },
   "outputs": [],
   "source": [
    "lyr_size = 64\n",
    "conv_lyr = 3"
   ]
  },
  {
   "cell_type": "code",
   "execution_count": null,
   "metadata": {
    "id": "xzt1gfJvwQWA"
   },
   "outputs": [],
   "source": [
    "model = Sequential()\n",
    "\n",
    "model.add(Conv2D(lyr_size, (3, 3), input_shape=X_train.shape[1:],name='Conv2D_layer_1'))\n",
    "model.add(Activation('relu',name='Activation_layer_1'))\n",
    "model.add(MaxPooling2D(pool_size=(2, 2),name='MaxPooling2D_layer_1'))\n",
    "\n",
    "for l in range(conv_lyr):\n",
    "    model.add(Conv2D(lyr_size, (3, 3),name='Conv2D_layer_'+str(l+2)))\n",
    "    model.add(Activation('relu',name='Activation_layer_'+str(l+2)))\n",
    "    model.add(MaxPooling2D(pool_size=(2, 2),name='MaxPooling2D_layer_'+str(l+2)))\n",
    "\n",
    "model.add(Flatten(name='Flatten_layer'))\n",
    "model.add(Dense(64,name='Dense_layer_1'))\n",
    "model.add(Activation('relu',name='Activation_layer_5'))\n",
    "model.add(Dense(5,name='Dense_layer_2'))\n",
    "model.add(Activation('softmax',name='Activation_layer_6'))"
   ]
  },
  {
   "cell_type": "code",
   "execution_count": null,
   "metadata": {
    "colab": {
     "base_uri": "https://localhost:8080/"
    },
    "id": "l21zdnKdp51u",
    "outputId": "951db3a4-0062-48e5-c6ae-3be6040b06f6"
   },
   "outputs": [],
   "source": [
    "model.compile(optimizer='adam',loss='sparse_categorical_crossentropy',metrics=['accuracy'])\n",
    "history=model.fit(X_train,y_train,batch_size=250,epochs=10)"
   ]
  },
  {
   "cell_type": "code",
   "execution_count": null,
   "metadata": {
    "id": "oRSqx_cG37n-"
   },
   "outputs": [],
   "source": [
    "del X_train\n",
    "del y_train"
   ]
  },
  {
   "cell_type": "code",
   "execution_count": null,
   "metadata": {
    "id": "6NqQABzKqkW7"
   },
   "outputs": [],
   "source": [
    "model.save(project_dir+'/flower_model.h5')"
   ]
  },
  {
   "cell_type": "code",
   "execution_count": null,
   "metadata": {
    "colab": {
     "base_uri": "https://localhost:8080/"
    },
    "id": "IQFhmjqdqqI_",
    "outputId": "7cff24ae-3024-486b-9e84-cf1b6dcac186"
   },
   "outputs": [],
   "source": [
    "evaluation=model.evaluate(X_test,y_test)"
   ]
  },
  {
   "cell_type": "code",
   "execution_count": null,
   "metadata": {
    "colab": {
     "base_uri": "https://localhost:8080/",
     "height": 1000
    },
    "id": "MIoaDhS-Zlkw",
    "outputId": "0f49e535-c974-4266-920f-d563af6067dd"
   },
   "outputs": [],
   "source": [
    "plot_model(model, to_file=project_dir+'/Model_Diagram.png', show_shapes=True, show_layer_names=True)"
   ]
  },
  {
   "cell_type": "code",
   "execution_count": null,
   "metadata": {
    "colab": {
     "base_uri": "https://localhost:8080/",
     "height": 295
    },
    "id": "FTldhbgmZziN",
    "outputId": "87d212a6-f9aa-49d3-d43a-d74fc1340be8"
   },
   "outputs": [],
   "source": [
    "plt.plot(history.history['accuracy'])\n",
    "plt.plot(history.history['loss'])\n",
    "plt.title('Model Training')\n",
    "plt.xlabel('Epoch')\n",
    "plt.legend(['Train Accuracy', 'Train Loss'], loc='upper right')\n",
    "plt.savefig(project_dir+'/Model_Training.png')\n",
    "plt.show()"
   ]
  },
  {
   "cell_type": "code",
   "execution_count": null,
   "metadata": {
    "id": "Xj2GA7yyeN-f"
   },
   "outputs": [],
   "source": [
    "pred=model.predict(X_test)\n",
    "y_pred=[]\n",
    "for i in pred:\n",
    "  y_pred.append(np.argmax(i))"
   ]
  },
  {
   "cell_type": "code",
   "execution_count": null,
   "metadata": {
    "colab": {
     "base_uri": "https://localhost:8080/"
    },
    "id": "OYPXCicvZ7Hc",
    "outputId": "ca77ee49-5013-46d3-d273-ff605ea31a13"
   },
   "outputs": [],
   "source": [
    "print(classification_report(y_test, y_pred,target_names=categories))"
   ]
  },
  {
   "cell_type": "code",
   "execution_count": null,
   "metadata": {
    "colab": {
     "base_uri": "https://localhost:8080/"
    },
    "id": "3EG1QlqkaO15",
    "outputId": "787c27b8-0470-489f-d693-8f8e9c8c5d85"
   },
   "outputs": [],
   "source": [
    "cm = confusion_matrix(y_test, y_pred)\n",
    "print(cm)"
   ]
  },
  {
   "cell_type": "code",
   "execution_count": null,
   "metadata": {
    "colab": {
     "base_uri": "https://localhost:8080/",
     "height": 607
    },
    "id": "zXT9J5WhkBrV",
    "outputId": "3d691c88-0681-478f-eaee-0a5dfa8f2892"
   },
   "outputs": [],
   "source": [
    "group_percentages = []\n",
    "for i in range(0,len(cm)):\n",
    "  group_percentages.append(np.round(cm[i]/np.sum(cm[i]),2))\n",
    "df_cm = pd.DataFrame(group_percentages, categories, categories)\n",
    "plt.figure(figsize=(15,10))\n",
    "sn.heatmap(df_cm, annot=True, annot_kws={\"size\": 12},cmap='Blues')\n",
    "plt.title(\"Confusion_Matrix\")\n",
    "plt.savefig(project_dir+'/Confusion_Matrix.png')\n",
    "plt.show()\n",
    "plt.close()"
   ]
  },
  {
   "cell_type": "code",
   "execution_count": null,
   "metadata": {
    "colab": {
     "base_uri": "https://localhost:8080/"
    },
    "id": "bHLt0i2dngol",
    "outputId": "b5f08cb7-ab1a-427e-b672-9925d4655890"
   },
   "outputs": [],
   "source": [
    "properties=[\"Accuracy\",\"F1 Score\",\"Precision\",\"Recall\"]\n",
    "\n",
    "df=pd.DataFrame()\n",
    "\n",
    "l=[]\n",
    "l.append(round(evaluation[1],3))\n",
    "l.append(round(f1_score(y_test,y_pred, average='weighted'),3))\n",
    "l.append(round(precision_score(y_test,y_pred, average='weighted'),3))\n",
    "l.append(round(recall_score(y_test,y_pred, average='weighted'),3))\n",
    "\n",
    "df['Property']=properties\n",
    "df['Value']=l\n",
    "print(df)"
   ]
  },
  {
   "cell_type": "code",
   "execution_count": null,
   "metadata": {
    "colab": {
     "base_uri": "https://localhost:8080/",
     "height": 355
    },
    "id": "KvfSTdsbaR_E",
    "outputId": "c25fc59a-bf1a-4a39-d60c-25958a85c5c7"
   },
   "outputs": [],
   "source": [
    "sn.set(rc={'figure.figsize':(8,5)},style=\"whitegrid\")\n",
    "a=sn.barplot(y=\"Property\",x=\"Value\",data=df)\n",
    "for p in a.patches:\n",
    "  width = p.get_width()\n",
    "  a.text(width-0.09,p.get_y()+p.get_height()/2,(\"{:.2f}\".format(width)),ha = 'left',va = 'center')\n",
    "plt.title(\"Model Scores\")\n",
    "plt.savefig(project_dir+'/Model_Scores.png')\n",
    "plt.show()\n",
    "plt.close()\n",
    "del a"
   ]
  },
  {
   "cell_type": "code",
   "execution_count": null,
   "metadata": {
    "colab": {
     "base_uri": "https://localhost:8080/",
     "height": 802
    },
    "id": "phUHL-EVdWLv",
    "outputId": "c0ea16bc-52db-4845-db83-d000b77c56d2"
   },
   "outputs": [],
   "source": [
    "plt.figure(figsize=(13,12)).suptitle('Model Validation', fontsize=15)\n",
    "for i in range(0,9):\n",
    "  plt.subplot(3,3,i+1)\n",
    "  plt.imshow(np.array(X_test[i]).reshape(224, 224),cmap='gray')\n",
    "  plt.xticks([])\n",
    "  plt.yticks([])\n",
    "  plt.xlabel('Actual:'+categories[y_test[i]]+'\\nPredicate:'+categories[np.argmax(pred[i])])\n",
    "plt.savefig(project_dir+'/Model_Validation.png')\n",
    "plt.show()\n",
    "plt.close()"
   ]
  },
  {
   "cell_type": "code",
   "execution_count": null,
   "metadata": {
    "id": "9qW170aoo_01"
   },
   "outputs": [],
   "source": []
  },
  {
   "cell_type": "code",
   "execution_count": null,
   "metadata": {},
   "outputs": [],
   "source": []
  },
  {
   "cell_type": "code",
   "execution_count": null,
   "metadata": {},
   "outputs": [],
   "source": []
  }
 ],
 "metadata": {
  "accelerator": "GPU",
  "colab": {
   "collapsed_sections": [],
   "name": "Flower_Recognition.ipynb",
   "provenance": []
  },
  "kernelspec": {
   "display_name": "Python 3",
   "language": "python",
   "name": "python3"
  },
  "language_info": {
   "codemirror_mode": {
    "name": "ipython",
    "version": 3
   },
   "file_extension": ".py",
   "mimetype": "text/x-python",
   "name": "python",
   "nbconvert_exporter": "python",
   "pygments_lexer": "ipython3",
   "version": "3.6.5"
  }
 },
 "nbformat": 4,
 "nbformat_minor": 1
}
